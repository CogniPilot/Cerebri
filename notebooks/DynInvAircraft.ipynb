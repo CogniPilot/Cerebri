{
 "cells": [
  {
   "cell_type": "code",
   "execution_count": 1,
   "metadata": {},
   "outputs": [],
   "source": [
    "import sympy\n",
    "import sympy.physics.mechanics as mech\n",
    "\n",
    "mech.init_vprinting()\n",
    "frame_e = mech.ReferenceFrame('e')\n",
    "t = sympy.symbols('t')\n",
    "m, g, rho, S, a, b, c, d, epsilon = sympy.symbols('m, g, rho, S, a, b, c, d, epsilon', real=True)\n",
    "J_xx, J_yy, J_zz, J_zx = sympy.symbols('J_xx, J_yy, J_zz, J_zx', real=True)\n",
    "chi, gamma, mu, V, alpha, beta, T, P, Q, R, x, y, z = mech.dynamicsymbols('chi, gamma, mu, V, alpha, beta, T, P, Q, R, x, y, z', real=True)\n",
    "L, M, N, X, Y, Z = mech.dynamicsymbols('L, M, N, X, Y, Z')\n",
    "delta_a, delta_e, delta_r = mech.dynamicsymbols('delta_a, delta_e, delta_r')\n",
    "frame_w = frame_e.orientnew('w', 'Body', (chi, gamma, mu), '321')\n",
    "frame_b = frame_w.orientnew('b', 'Body', (-beta, alpha, 0), '321')\n",
    "frame_t = frame_b.orientnew('b', 'Body', (epsilon, 0, 0), '231')\n",
    "frame_b.set_ang_vel(frame_e, P*frame_b.x + Q*frame_b.y + R*frame_b.z)\n",
    "\n",
    "omega_ew = frame_b.ang_vel_in(frame_e) + frame_w.ang_vel_in(frame_b)\n",
    "kin_rot = omega_ew - frame_w.ang_vel_in(frame_e)\n",
    "\n",
    "frame_w.set_ang_vel(frame_e, omega_ew)\n",
    "\n",
    "C_L0, C_La, C_D0, k_D, C_Sb, C_la, C_m0, C_ma, C_me, C_nr = sympy.symbols('C_L0, C_La, C_D0, k_D, C_Sb, C_la, C_m0, C_ma, C_me, C_nr ')\n",
    "\n",
    "C_L = C_L0 + C_La*alpha\n",
    "C_D = C_D0 + k_D*C_L**2\n",
    "C_S = C_Sb*beta\n",
    "\n",
    "C_l = C_la*delta_a\n",
    "C_m = C_m0 + C_ma*alpha + C_me*delta_e\n",
    "C_n = C_nr*delta_r\n",
    "\n",
    "q = rho*S*V**2/2\n",
    "F_A = q*(-C_D*frame_w.x + C_L*frame_w.y - C_S*frame_w.z)\n",
    "F_T = T*frame_b.x\n",
    "F_W = m*g*frame_e.z\n",
    "F_full = F_A + F_T + F_W\n",
    "\n",
    "F_sol = {\n",
    "    X: F_full.dot(frame_w.x),\n",
    "    Y: F_full.dot(frame_w.y),\n",
    "    Z: F_full.dot(frame_w.z)\n",
    "}\n",
    "\n",
    "F_w = X*frame_w.x + Y*frame_w.y + Z*frame_w.z\n",
    "\n",
    "M_A = q*(a*C_l*frame_b.x + b*C_m*frame_b.y + c*C_n*frame_b.z)\n",
    "M_T = T*d*frame_b.y\n",
    "M_full = M_A + M_T\n",
    "\n",
    "M_sol = {\n",
    "    L: M_full.dot(frame_b.x),\n",
    "    M: M_full.dot(frame_b.y),\n",
    "    N: M_full.dot(frame_b.z)\n",
    "}\n",
    "\n",
    "M_b = L*frame_b.x + M*frame_b.y + N*frame_b.z\n",
    "\n",
    "\n",
    "point_o = mech.Point('o')\n",
    "point_o.set_vel(frame_e, 0)\n",
    "\n",
    "\n",
    "point_p = point_o.locatenew('p', x*frame_e.x + y*frame_e.y + z*frame_e.z)\n",
    "point_p.set_vel(frame_e, V*frame_w.x)\n",
    "point_p.set_vel(frame_b, 0)\n",
    "\n",
    "body = mech.RigidBody('body', point_p, frame_b, m, (mech.inertia(frame=frame_b, ixx=J_xx, iyy=J_yy, izz=J_zz, izx=J_zx), point_p))"
   ]
  },
  {
   "cell_type": "code",
   "execution_count": 2,
   "metadata": {},
   "outputs": [
    {
     "data": {
      "image/png": "[encoded data removed]",
      "text/latex": [
       "$\\displaystyle P\\mathbf{\\hat{b}_x} + Q\\mathbf{\\hat{b}_y} + R\\mathbf{\\hat{b}_z}$"
      ],
      "text/plain": [
       "P b_x + Q b_y + R b_z"
      ]
     },
     "execution_count": 2,
     "metadata": {},
     "output_type": "execute_result"
    }
   ],
   "source": [
    "frame_b.ang_vel_in(frame_e)"
   ]
  },
  {
   "cell_type": "code",
   "execution_count": 3,
   "metadata": {},
   "outputs": [
    {
     "data": {
      "image/png": "[encoded data removed]",
      "text/latex": [
       "$\\displaystyle \\left\\{ \\dot{\\chi} : \\frac{- P \\sin{\\left(\\alpha \\right)} \\cos{\\left(\\mu \\right)} - P \\sin{\\left(\\beta \\right)} \\sin{\\left(\\mu \\right)} \\cos{\\left(\\alpha \\right)} + Q \\sin{\\left(\\mu \\right)} \\cos{\\left(\\beta \\right)} - R \\sin{\\left(\\alpha \\right)} \\sin{\\left(\\beta \\right)} \\sin{\\left(\\mu \\right)} + R \\cos{\\left(\\alpha \\right)} \\cos{\\left(\\mu \\right)} - \\sin{\\left(\\mu \\right)} \\cos{\\left(\\beta \\right)} \\dot{\\alpha} + \\cos{\\left(\\mu \\right)} \\dot{\\beta}}{\\cos{\\left(\\gamma \\right)}}, \\  \\dot{\\gamma} : P \\sin{\\left(\\alpha \\right)} \\sin{\\left(\\mu \\right)} - P \\sin{\\left(\\beta \\right)} \\cos{\\left(\\alpha \\right)} \\cos{\\left(\\mu \\right)} + Q \\cos{\\left(\\beta \\right)} \\cos{\\left(\\mu \\right)} - R \\sin{\\left(\\alpha \\right)} \\sin{\\left(\\beta \\right)} \\cos{\\left(\\mu \\right)} - R \\sin{\\left(\\mu \\right)} \\cos{\\left(\\alpha \\right)} - \\sin{\\left(\\mu \\right)} \\dot{\\beta} - \\cos{\\left(\\beta \\right)} \\cos{\\left(\\mu \\right)} \\dot{\\alpha}, \\  \\dot{\\mu} : - P \\sin{\\left(\\alpha \\right)} \\cos{\\left(\\mu \\right)} \\tan{\\left(\\gamma \\right)} - P \\sin{\\left(\\beta \\right)} \\sin{\\left(\\mu \\right)} \\cos{\\left(\\alpha \\right)} \\tan{\\left(\\gamma \\right)} + P \\cos{\\left(\\alpha \\right)} \\cos{\\left(\\beta \\right)} + Q \\sin{\\left(\\beta \\right)} + Q \\sin{\\left(\\mu \\right)} \\cos{\\left(\\beta \\right)} \\tan{\\left(\\gamma \\right)} - R \\sin{\\left(\\alpha \\right)} \\sin{\\left(\\beta \\right)} \\sin{\\left(\\mu \\right)} \\tan{\\left(\\gamma \\right)} + R \\sin{\\left(\\alpha \\right)} \\cos{\\left(\\beta \\right)} + R \\cos{\\left(\\alpha \\right)} \\cos{\\left(\\mu \\right)} \\tan{\\left(\\gamma \\right)} - \\sin{\\left(\\beta \\right)} \\dot{\\alpha} - \\sin{\\left(\\mu \\right)} \\cos{\\left(\\beta \\right)} \\tan{\\left(\\gamma \\right)} \\dot{\\alpha} + \\cos{\\left(\\mu \\right)} \\tan{\\left(\\gamma \\right)} \\dot{\\beta}\\right\\}$"
      ],
      "text/plain": [
       "⎧   -P⋅sin(α)⋅cos(μ) - P⋅sin(β)⋅sin(μ)⋅cos(α) + Q⋅sin(μ)⋅cos(β) - R⋅sin(α)⋅sin\n",
       "⎨χ̇: ─────────────────────────────────────────────────────────────────────────\n",
       "⎩                                                                  cos(γ)     \n",
       "\n",
       "(β)⋅sin(μ) + R⋅cos(α)⋅cos(μ) - sin(μ)⋅cos(β)⋅α̇ + cos(μ)⋅β̇                   \n",
       "──────────────────────────────────────────────────────────, γ̇: P⋅sin(α)⋅sin(μ\n",
       "                                                                              \n",
       "\n",
       "                                                                              \n",
       ") - P⋅sin(β)⋅cos(α)⋅cos(μ) + Q⋅cos(β)⋅cos(μ) - R⋅sin(α)⋅sin(β)⋅cos(μ) - R⋅sin(\n",
       "                                                                              \n",
       "\n",
       "                                                                              \n",
       "μ)⋅cos(α) - sin(μ)⋅β̇ - cos(β)⋅cos(μ)⋅α̇, μ̇: -P⋅sin(α)⋅cos(μ)⋅tan(γ) - P⋅sin(\n",
       "                                                                              \n",
       "\n",
       "                                                                              \n",
       "β)⋅sin(μ)⋅cos(α)⋅tan(γ) + P⋅cos(α)⋅cos(β) + Q⋅sin(β) + Q⋅sin(μ)⋅cos(β)⋅tan(γ) \n",
       "                                                                              \n",
       "\n",
       "                                                                              \n",
       "- R⋅sin(α)⋅sin(β)⋅sin(μ)⋅tan(γ) + R⋅sin(α)⋅cos(β) + R⋅cos(α)⋅cos(μ)⋅tan(γ) - s\n",
       "                                                                              \n",
       "\n",
       "                                               ⎫\n",
       "in(β)⋅α̇ - sin(μ)⋅cos(β)⋅tan(γ)⋅α̇ + cos(μ)⋅tan(γ)⋅β̇⎬\n",
       "                                             ⎭"
      ]
     },
     "execution_count": 3,
     "metadata": {},
     "output_type": "execute_result"
    }
   ],
   "source": [
    "sol_rot = sympy.solve(kin_rot.to_matrix(frame_w), [chi.diff(t), gamma.diff(t), mu.diff(t)], simplify=True)\n",
    "sol_rot"
   ]
  },
  {
   "cell_type": "code",
   "execution_count": 4,
   "metadata": {},
   "outputs": [],
   "source": [
    "V_sol = sympy.sqrt(x.diff(t)**2 + y.diff(t)**2 + z.diff(t)**2)\n",
    "gamma_sol = sympy.atan(-z.diff(t)/sympy.sqrt(x.diff(t)**2 + y.diff(t)**2))\n",
    "chi_sol = sympy.atan(y.diff(t)/x.diff(t))"
   ]
  },
  {
   "cell_type": "code",
   "execution_count": 5,
   "metadata": {},
   "outputs": [
    {
     "data": {
      "image/png": "[encoded data removed]",
      "text/latex": [
       "$\\displaystyle \\operatorname{atan}{\\left(\\tan{\\left(\\chi \\right)} \\right)}$"
      ],
      "text/plain": [
       "atan(tan(χ))"
      ]
     },
     "execution_count": 5,
     "metadata": {},
     "output_type": "execute_result"
    }
   ],
   "source": [
    "V_w = V*frame_w.x\n",
    "sympy.atan(V_w.dot(frame_e.y)/ V_w.dot(frame_e.x)).simplify()"
   ]
  },
  {
   "cell_type": "code",
   "execution_count": 6,
   "metadata": {},
   "outputs": [
    {
     "data": {
      "image/png": "[encoded data removed]",
      "text/latex": [
       "$\\displaystyle \\frac{V \\sin{\\left(\\gamma \\right)}}{\\left|{V \\cos{\\left(\\gamma \\right)}}\\right|}$"
      ],
      "text/plain": [
       " V⋅sin(γ) \n",
       "──────────\n",
       "│V⋅cos(γ)│"
      ]
     },
     "execution_count": 6,
     "metadata": {},
     "output_type": "execute_result"
    }
   ],
   "source": [
    "-V_w.dot(frame_e.z)/ sympy.sqrt(V_w.dot(frame_e.x)**2 + V_w.dot(frame_e.y)**2).simplify()"
   ]
  },
  {
   "cell_type": "code",
   "execution_count": 7,
   "metadata": {},
   "outputs": [
    {
     "data": {
      "image/png": "[encoded data removed]",
      "text/latex": [
       "$\\displaystyle \\frac{\\left(\\dot{x} \\ddot{x} + \\dot{y} \\ddot{y}\\right) \\dot{z} - \\left(\\dot{x}^{2} + \\dot{y}^{2}\\right) \\ddot{z}}{\\sqrt{\\dot{x}^{2} + \\dot{y}^{2}} \\left(\\dot{x}^{2} + \\dot{y}^{2} + \\dot{z}^{2}\\right)}$"
      ],
      "text/plain": [
       "                ⎛ 2    2⎞  \n",
       "(ẋ⋅ẍ + ẏ⋅ÿ)⋅ż - ⎝ẋ  + ẏ ⎠⋅z̈\n",
       "───────────────────────────\n",
       "   _________               \n",
       "  ╱  2    2  ⎛ 2    2    2⎞\n",
       "╲╱ ẋ  + ẏ ⋅⎝ẋ  + ẏ  + ż ⎠"
      ]
     },
     "execution_count": 7,
     "metadata": {},
     "output_type": "execute_result"
    }
   ],
   "source": [
    "gamma_sol.diff(t).simplify()"
   ]
  },
  {
   "cell_type": "code",
   "execution_count": 8,
   "metadata": {},
   "outputs": [
    {
     "data": {
      "image/png": "[encoded data removed]",
      "text/latex": [
       "$\\displaystyle \\frac{\\dot{x} \\ddot{y} - \\ddot{x} \\dot{y}}{\\dot{x}^{2} + \\dot{y}^{2}}$"
      ],
      "text/plain": [
       "ẋ⋅ÿ - ẍ⋅ẏ\n",
       "─────────\n",
       "  2    2 \n",
       "ẋ  + ẏ "
      ]
     },
     "execution_count": 8,
     "metadata": {},
     "output_type": "execute_result"
    }
   ],
   "source": [
    "chi_sol.diff(t).simplify()"
   ]
  },
  {
   "cell_type": "code",
   "execution_count": 9,
   "metadata": {},
   "outputs": [
    {
     "data": {
      "image/png": "[encoded data removed]",
      "text/latex": [
       "$\\displaystyle \\frac{\\dot{x} \\ddot{x} + \\dot{y} \\ddot{y} + \\dot{z} \\ddot{z}}{\\sqrt{\\dot{x}^{2} + \\dot{y}^{2} + \\dot{z}^{2}}}$"
      ],
      "text/plain": [
       "ẋ⋅ẍ + ẏ⋅ÿ + ż⋅z̈\n",
       "─────────────────\n",
       "   ______________\n",
       "  ╱  2    2    2 \n",
       "╲╱ ẋ  + ẏ  + ż "
      ]
     },
     "execution_count": 9,
     "metadata": {},
     "output_type": "execute_result"
    }
   ],
   "source": [
    "V_sol.diff(t).simplify()"
   ]
  },
  {
   "cell_type": "code",
   "execution_count": 10,
   "metadata": {},
   "outputs": [
    {
     "data": {
      "text/latex": [
       "$\\displaystyle \\left[\\begin{matrix}m \\dot{V}\\\\- m P V \\sin{\\left(\\alpha \\right)} + m R V \\cos{\\left(\\alpha \\right)} + m V \\dot{\\beta}\\\\m P V \\sin{\\left(\\beta \\right)} \\cos{\\left(\\alpha \\right)} - m Q V \\cos{\\left(\\beta \\right)} + m R V \\sin{\\left(\\alpha \\right)} \\sin{\\left(\\beta \\right)} + m V \\cos{\\left(\\beta \\right)} \\dot{\\alpha}\\end{matrix}\\right]$"
      ],
      "text/plain": [
       "⎡                                  m⋅V̇                                  ⎤\n",
       "⎢                                                                       ⎥\n",
       "⎢                 -m⋅P⋅V⋅sin(α) + m⋅R⋅V⋅cos(α) + m⋅V⋅β̇                  ⎥\n",
       "⎢                                                                       ⎥\n",
       "⎣m⋅P⋅V⋅sin(β)⋅cos(α) - m⋅Q⋅V⋅cos(β) + m⋅R⋅V⋅sin(α)⋅sin(β) + m⋅V⋅cos(β)⋅α̇⎦"
      ]
     },
     "execution_count": 10,
     "metadata": {},
     "output_type": "execute_result"
    }
   ],
   "source": [
    "LM = body.linear_momentum(frame_e)\n",
    "LM_dot = LM.diff(t, frame_w) + frame_w.ang_vel_in(frame_e).cross(LM)\n",
    "LM_dot = LM_dot.applyfunc(lambda x: x.simplify().expand())\n",
    "LM_dot.to_matrix(frame_w)"
   ]
  },
  {
   "cell_type": "code",
   "execution_count": 11,
   "metadata": {},
   "outputs": [
    {
     "data": {
      "text/latex": [
       "$\\displaystyle \\left[\\begin{matrix}J_{xx} \\dot{P} - J_{yy} Q R + J_{zx} P Q + J_{zx} \\dot{R} + J_{zz} Q R\\\\J_{xx} P R + J_{yy} \\dot{Q} - J_{zx} P^{2} + J_{zx} R^{2} - J_{zz} P R\\\\- J_{xx} P Q + J_{yy} P Q - J_{zx} Q R + J_{zx} \\dot{P} + J_{zz} \\dot{R}\\end{matrix}\\right]$"
      ],
      "text/plain": [
       "⎡Jₓₓ⋅Ṗ - J_yy⋅Q⋅R + J_zx⋅P⋅Q + J_zx⋅Ṙ + J_zz⋅Q⋅R ⎤\n",
       "⎢                                                ⎥\n",
       "⎢                         2         2            ⎥\n",
       "⎢Jₓₓ⋅P⋅R + J_yy⋅Q̇ - J_zx⋅P  + J_zx⋅R  - J_zz⋅P⋅R ⎥\n",
       "⎢                                                ⎥\n",
       "⎣-Jₓₓ⋅P⋅Q + J_yy⋅P⋅Q - J_zx⋅Q⋅R + J_zx⋅Ṗ + J_zz⋅Ṙ⎦"
      ]
     },
     "execution_count": 11,
     "metadata": {},
     "output_type": "execute_result"
    }
   ],
   "source": [
    "H = body.angular_momentum(point_p, frame_e)\n",
    "H_dot = H.diff(t, frame_b) + frame_b.ang_vel_in(frame_e).cross(H)\n",
    "H_dot = H_dot.applyfunc(lambda x: x.simplify().expand())\n",
    "H_dot.to_matrix(frame_b)"
   ]
  },
  {
   "cell_type": "code",
   "execution_count": 12,
   "metadata": {},
   "outputs": [
    {
     "data": {
      "image/png": "[encoded data removed]",
      "text/latex": [
       "$\\displaystyle \\left\\{ \\dot{P} : \\frac{- J_{xx} J_{zx} P Q + J_{yy} J_{zx} P Q + J_{yy} J_{zz} Q R - J_{zx}^{2} Q R - J_{zx} J_{zz} P Q - J_{zx} N - J_{zz}^{2} Q R + J_{zz} L}{J_{xx} J_{zz} - J_{zx}^{2}}, \\  \\dot{Q} : \\frac{- J_{xx} P R + J_{zx} P^{2} - J_{zx} R^{2} + J_{zz} P R + M}{J_{yy}}, \\  \\dot{R} : \\frac{J_{xx}^{2} P Q - J_{xx} J_{yy} P Q + J_{xx} J_{zx} Q R + J_{xx} N - J_{yy} J_{zx} Q R + J_{zx}^{2} P Q + J_{zx} J_{zz} Q R - J_{zx} L}{J_{xx} J_{zz} - J_{zx}^{2}}\\right\\}$"
      ],
      "text/plain": [
       "⎧                                                       2                     \n",
       "⎪   -Jₓₓ⋅J_zx⋅P⋅Q + J_yy⋅J_zx⋅P⋅Q + J_yy⋅J_zz⋅Q⋅R - J_zx ⋅Q⋅R - J_zx⋅J_zz⋅P⋅Q \n",
       "⎨Ṗ: ─────────────────────────────────────────────────────────────────────────\n",
       "⎪                                                              2              \n",
       "⎩                                               Jₓₓ⋅J_zz - J_zx               \n",
       "\n",
       "               2                                   2         2                \n",
       "- J_zx⋅N - J_zz ⋅Q⋅R + J_zz⋅L     -Jₓₓ⋅P⋅R + J_zx⋅P  - J_zx⋅R  + J_zz⋅P⋅R + M \n",
       "──────────────────────────────, Q̇: ──────────────────────────────────────────\n",
       "                                                      J_yy                    \n",
       "                                                                              \n",
       "\n",
       "       2                                                                 2    \n",
       "    Jₓₓ ⋅P⋅Q - Jₓₓ⋅J_yy⋅P⋅Q + Jₓₓ⋅J_zx⋅Q⋅R + Jₓₓ⋅N - J_yy⋅J_zx⋅Q⋅R + J_zx ⋅P⋅Q\n",
       "─, Ṙ: ───────────────────────────────────────────────────────────────────────\n",
       "                                                             2                \n",
       "                                              Jₓₓ⋅J_zz - J_zx                 \n",
       "\n",
       "                         ⎫\n",
       " + J_zx⋅J_zz⋅Q⋅R - J_zx⋅L⎪\n",
       "────────────────────────────⎬\n",
       "                         ⎪\n",
       "                         ⎭"
      ]
     },
     "execution_count": 12,
     "metadata": {},
     "output_type": "execute_result"
    }
   ],
   "source": [
    "sol_ang = sympy.solve((H_dot - M_b).to_matrix(frame_b), [P.diff(t), Q.diff(t), R.diff(t)], simplify=True)\n",
    "sol_ang"
   ]
  },
  {
   "cell_type": "code",
   "execution_count": 13,
   "metadata": {},
   "outputs": [
    {
     "data": {
      "image/png": "[encoded data removed]",
      "text/latex": [
       "$\\displaystyle \\left\\{ \\dot{V} : \\frac{X}{m}, \\  \\dot{\\alpha} : - \\frac{P \\sin{\\left(\\beta \\right)} \\cos{\\left(\\alpha \\right)}}{\\cos{\\left(\\beta \\right)}} + Q - \\frac{R \\sin{\\left(\\alpha \\right)} \\sin{\\left(\\beta \\right)}}{\\cos{\\left(\\beta \\right)}} + \\frac{Z}{m V \\cos{\\left(\\beta \\right)}}, \\  \\dot{\\beta} : P \\sin{\\left(\\alpha \\right)} - R \\cos{\\left(\\alpha \\right)} + \\frac{Y}{m V}\\right\\}$"
      ],
      "text/plain": [
       "⎧   X       P⋅sin(β)⋅cos(α)       R⋅sin(α)⋅sin(β)       Z                     \n",
       "⎨V̇: ─, α̇: - ─────────────── + Q - ─────────────── + ──────────, β̇: P⋅sin(α)\n",
       "⎩   m            cos(β)                cos(β)       m⋅V⋅cos(β)                \n",
       "\n",
       "            Y ⎫\n",
       " - R⋅cos(α) + ───⎬\n",
       "           m⋅V⎭"
      ]
     },
     "execution_count": 13,
     "metadata": {},
     "output_type": "execute_result"
    }
   ],
   "source": [
    "sol_trans = sympy.solve((LM_dot - F_w).to_matrix(frame_w), [V.diff(t), alpha.diff(t), beta.diff(t)])\n",
    "sol_trans"
   ]
  },
  {
   "cell_type": "code",
   "execution_count": 14,
   "metadata": {},
   "outputs": [
    {
     "data": {
      "image/png": "[encoded data removed]",
      "text/latex": [
       "$\\displaystyle \\left\\{ \\dot{\\chi} : \\frac{Y \\cos{\\left(\\mu \\right)} - Z \\sin{\\left(\\mu \\right)}}{m V \\cos{\\left(\\gamma \\right)}}, \\  \\dot{\\gamma} : - \\frac{Y \\sin{\\left(\\mu \\right)} + Z \\cos{\\left(\\mu \\right)}}{m V}, \\  \\dot{\\mu} : \\frac{m \\left(P \\cos{\\left(\\alpha \\right)} + R \\sin{\\left(\\alpha \\right)}\\right) V + \\left(Y \\cos{\\left(\\mu \\right)} \\tan{\\left(\\gamma \\right)} - Z \\sin{\\left(\\mu \\right)} \\tan{\\left(\\gamma \\right)} - Z \\tan{\\left(\\beta \\right)}\\right) \\cos{\\left(\\beta \\right)}}{m V \\cos{\\left(\\beta \\right)}}\\right\\}$"
      ],
      "text/plain": [
       "⎧   Y⋅cos(μ) - Z⋅sin(μ)     -(Y⋅sin(μ) + Z⋅cos(μ))      m⋅(P⋅cos(α) + R⋅sin(α)\n",
       "⎨χ̇: ───────────────────, γ̇: ───────────────────────, μ̇: ───────────────────\n",
       "⎩        m⋅V⋅cos(γ)                   m⋅V                                     \n",
       "\n",
       ")⋅V + (Y⋅cos(μ)⋅tan(γ) - Z⋅sin(μ)⋅tan(γ) - Z⋅tan(β))⋅cos(β)⎫\n",
       "──────────────────────────────────────────────────────────────⎬\n",
       "              m⋅V⋅cos(β)                                   ⎭"
      ]
     },
     "execution_count": 14,
     "metadata": {},
     "output_type": "execute_result"
    }
   ],
   "source": [
    "sol_rot_simp = {}\n",
    "sol_rot_simp[chi.diff(t)] = sol_rot[chi.diff(t)].subs(sol_trans).simplify()\n",
    "sol_rot_simp[mu.diff(t)] = sol_rot[mu.diff(t)].subs(sol_trans).simplify().expand().simplify()\n",
    "sol_rot_simp[gamma.diff(t)] = sol_rot[gamma.diff(t)].subs(sol_trans).simplify()\n",
    "sol_rot_simp"
   ]
  },
  {
   "cell_type": "code",
   "execution_count": 15,
   "metadata": {},
   "outputs": [
    {
     "data": {
      "text/latex": [
       "$\\displaystyle \\left[\\begin{matrix}\\dot{x}\\\\\\dot{y}\\\\\\dot{z}\\\\\\dot{V}\\\\\\dot{\\alpha}\\\\\\dot{\\beta}\\\\\\dot{\\gamma}\\\\\\dot{\\chi}\\\\\\dot{\\mu}\\\\\\dot{P}\\\\\\dot{Q}\\\\\\dot{R}\\end{matrix}\\right] = \\left[\\begin{matrix}V \\cos{\\left(\\chi \\right)} \\cos{\\left(\\gamma \\right)}\\\\V \\sin{\\left(\\chi \\right)} \\cos{\\left(\\gamma \\right)}\\\\- V \\sin{\\left(\\gamma \\right)}\\\\\\frac{X}{m}\\\\- \\frac{P \\sin{\\left(\\beta \\right)} \\cos{\\left(\\alpha \\right)}}{\\cos{\\left(\\beta \\right)}} + Q - \\frac{R \\sin{\\left(\\alpha \\right)} \\sin{\\left(\\beta \\right)}}{\\cos{\\left(\\beta \\right)}} + \\frac{Z}{m V \\cos{\\left(\\beta \\right)}}\\\\P \\sin{\\left(\\alpha \\right)} - R \\cos{\\left(\\alpha \\right)} + \\frac{Y}{m V}\\\\- \\frac{Y \\sin{\\left(\\mu \\right)} + Z \\cos{\\left(\\mu \\right)}}{m V}\\\\\\frac{Y \\cos{\\left(\\mu \\right)} - Z \\sin{\\left(\\mu \\right)}}{m V \\cos{\\left(\\gamma \\right)}}\\\\\\frac{m \\left(P \\cos{\\left(\\alpha \\right)} + R \\sin{\\left(\\alpha \\right)}\\right) V + \\left(Y \\cos{\\left(\\mu \\right)} \\tan{\\left(\\gamma \\right)} - Z \\sin{\\left(\\mu \\right)} \\tan{\\left(\\gamma \\right)} - Z \\tan{\\left(\\beta \\right)}\\right) \\cos{\\left(\\beta \\right)}}{m V \\cos{\\left(\\beta \\right)}}\\\\\\frac{- J_{xx} J_{zx} P Q + J_{yy} J_{zx} P Q + J_{yy} J_{zz} Q R - J_{zx}^{2} Q R - J_{zx} J_{zz} P Q - J_{zx} N - J_{zz}^{2} Q R + J_{zz} L}{J_{xx} J_{zz} - J_{zx}^{2}}\\\\\\frac{- J_{xx} P R + J_{zx} P^{2} - J_{zx} R^{2} + J_{zz} P R + M}{J_{yy}}\\\\\\frac{J_{xx}^{2} P Q - J_{xx} J_{yy} P Q + J_{xx} J_{zx} Q R + J_{xx} N - J_{yy} J_{zx} Q R + J_{zx}^{2} P Q + J_{zx} J_{zz} Q R - J_{zx} L}{J_{xx} J_{zz} - J_{zx}^{2}}\\end{matrix}\\right]$"
      ],
      "text/plain": [
       "      ⎡                                            V⋅cos(χ)⋅cos(γ)            \n",
       "      ⎢                                                                       \n",
       "      ⎢                                            V⋅sin(χ)⋅cos(γ)            \n",
       "      ⎢                                                                       \n",
       "      ⎢                                               -V⋅sin(γ)               \n",
       "      ⎢                                                                       \n",
       "      ⎢                                                   X                   \n",
       "      ⎢                                                   ─                   \n",
       "      ⎢                                                   m                   \n",
       "      ⎢                                                                       \n",
       "      ⎢                           P⋅sin(β)⋅cos(α)       R⋅sin(α)⋅sin(β)       \n",
       "      ⎢                         - ─────────────── + Q - ─────────────── + ────\n",
       "⎡ẋ⎤   ⎢                                cos(β)                cos(β)       m⋅V\n",
       "⎢ ⎥   ⎢                                                                       \n",
       "⎢ẏ⎥   ⎢                                                              Y       \n",
       "⎢ ⎥   ⎢                                       P⋅sin(α) - R⋅cos(α) + ───       \n",
       "⎢ż⎥   ⎢                                                             m⋅V      \n",
       "⎢ ⎥   ⎢                                                                       \n",
       "⎢V̇⎥   ⎢                                        -(Y⋅sin(μ) + Z⋅cos(μ))        \n",
       "⎢ ⎥   ⎢                                        ───────────────────────        \n",
       "⎢α̇⎥   ⎢                                                  m⋅V                 \n",
       "⎢ ⎥   ⎢                                                                       \n",
       "⎢β̇⎥   ⎢                                          Y⋅cos(μ) - Z⋅sin(μ)         \n",
       "⎢ ⎥ = ⎢                                          ───────────────────          \n",
       "⎢γ̇⎥   ⎢                                               m⋅V⋅cos(γ)             \n",
       "⎢ ⎥   ⎢                                                                       \n",
       "⎢χ̇⎥   ⎢           m⋅(P⋅cos(α) + R⋅sin(α))⋅V + (Y⋅cos(μ)⋅tan(γ) - Z⋅sin(μ)⋅tan\n",
       "⎢ ⎥   ⎢           ────────────────────────────────────────────────────────────\n",
       "⎢μ̇⎥   ⎢                                               m⋅V⋅cos(β)             \n",
       "⎢ ⎥   ⎢                                                                       \n",
       "⎢Ṗ⎥   ⎢                                                    2                 \n",
       "⎢ ⎥   ⎢-Jₓₓ⋅J_zx⋅P⋅Q + J_yy⋅J_zx⋅P⋅Q + J_yy⋅J_zz⋅Q⋅R - J_zx ⋅Q⋅R - J_zx⋅J_zz⋅P\n",
       "⎢Q̇⎥   ⎢──────────────────────────────────────────────────────────────────────\n",
       "⎢ ⎥   ⎢                                                           2           \n",
       "⎣Ṙ⎦   ⎢                                            Jₓₓ⋅J_zz - J_zx           \n",
       "      ⎢                                                                       \n",
       "      ⎢                                               2         2             \n",
       "      ⎢                              -Jₓₓ⋅P⋅R + J_zx⋅P  - J_zx⋅R  + J_zz⋅P⋅R +\n",
       "      ⎢                              ─────────────────────────────────────────\n",
       "      ⎢                                                  J_yy                 \n",
       "      ⎢                                                                       \n",
       "      ⎢     2                                                                 \n",
       "      ⎢  Jₓₓ ⋅P⋅Q - Jₓₓ⋅J_yy⋅P⋅Q + Jₓₓ⋅J_zx⋅Q⋅R + Jₓₓ⋅N - J_yy⋅J_zx⋅Q⋅R + J_zx\n",
       "      ⎢  ─────────────────────────────────────────────────────────────────────\n",
       "      ⎢                                                           2           \n",
       "      ⎣                                            Jₓₓ⋅J_zz - J_zx            \n",
       "\n",
       "                                ⎤\n",
       "                                ⎥\n",
       "                                ⎥\n",
       "                                ⎥\n",
       "                                ⎥\n",
       "                                ⎥\n",
       "                                ⎥\n",
       "                                ⎥\n",
       "                                ⎥\n",
       "                                ⎥\n",
       "Z                               ⎥\n",
       "──────                          ⎥\n",
       "⋅cos(β)                          ⎥\n",
       "                                ⎥\n",
       "                                 ⎥\n",
       "                                ⎥\n",
       "                                 ⎥\n",
       "                                ⎥\n",
       "                                 ⎥\n",
       "                                ⎥\n",
       "                                 ⎥\n",
       "                                ⎥\n",
       "                                 ⎥\n",
       "                                ⎥\n",
       "                                 ⎥\n",
       "                                ⎥\n",
       "(γ) - Z⋅tan(β))⋅cos(β)           ⎥\n",
       "─────────────────────           ⎥\n",
       "                                 ⎥\n",
       "                                ⎥\n",
       "                   2             ⎥\n",
       "⋅Q - J_zx⋅N - J_zz ⋅Q⋅R + J_zz⋅L⎥\n",
       "─────────────────────────────────⎥\n",
       "                                ⎥\n",
       "                                 ⎥\n",
       "                                ⎥\n",
       "                                ⎥\n",
       " M                              ⎥\n",
       "──                              ⎥\n",
       "                                ⎥\n",
       "                                ⎥\n",
       "2                               ⎥\n",
       " ⋅P⋅Q + J_zx⋅J_zz⋅Q⋅R - J_zx⋅L  ⎥\n",
       "──────────────────────────────  ⎥\n",
       "                                ⎥\n",
       "                                ⎦"
      ]
     },
     "execution_count": 15,
     "metadata": {},
     "output_type": "execute_result"
    }
   ],
   "source": [
    "states = [x, y, z, V, alpha, beta, gamma, chi, mu, P, Q, R]\n",
    "state_dot = {}\n",
    "state_dot[x] = point_p.vel(frame_e).dot(frame_e.x)\n",
    "state_dot[y] = point_p.vel(frame_e).dot(frame_e.y)\n",
    "state_dot[z] = point_p.vel(frame_e).dot(frame_e.z)\n",
    "state_dot[V] = sol_trans[V.diff(t)]\n",
    "state_dot[alpha] = sol_trans[alpha.diff(t)]\n",
    "state_dot[beta] = sol_trans[beta.diff(t)]\n",
    "state_dot[gamma] = sol_rot_simp[gamma.diff(t)]\n",
    "state_dot[chi] = sol_rot_simp[chi.diff(t)]\n",
    "state_dot[mu] = sol_rot_simp[mu.diff(t)]\n",
    "state_dot[P] = sol_ang[P.diff(t)]\n",
    "state_dot[Q] = sol_ang[Q.diff(t)]\n",
    "state_dot[R] = sol_ang[R.diff(t)]\n",
    "\n",
    "x_vect = sympy.Matrix(states)\n",
    "x_dot_vect = sympy.Matrix([ state_dot[xi] for xi in states ])\n",
    "sympy.Eq(x_vect.diff(t),  x_dot_vect)"
   ]
  },
  {
   "cell_type": "code",
   "execution_count": 16,
   "metadata": {},
   "outputs": [
    {
     "data": {
      "image/png": "[encoded data removed]",
      "text/latex": [
       "$\\displaystyle \\left\\{ \\dot{\\chi} : \\frac{- P \\sin{\\left(\\alpha \\right)} \\cos{\\left(\\mu \\right)} - P \\sin{\\left(\\beta \\right)} \\sin{\\left(\\mu \\right)} \\cos{\\left(\\alpha \\right)} + Q \\sin{\\left(\\mu \\right)} \\cos{\\left(\\beta \\right)} - R \\sin{\\left(\\alpha \\right)} \\sin{\\left(\\beta \\right)} \\sin{\\left(\\mu \\right)} + R \\cos{\\left(\\alpha \\right)} \\cos{\\left(\\mu \\right)} - \\sin{\\left(\\mu \\right)} \\cos{\\left(\\beta \\right)} \\dot{\\alpha} + \\cos{\\left(\\mu \\right)} \\dot{\\beta}}{\\cos{\\left(\\gamma \\right)}}, \\  \\dot{\\gamma} : P \\sin{\\left(\\alpha \\right)} \\sin{\\left(\\mu \\right)} - P \\sin{\\left(\\beta \\right)} \\cos{\\left(\\alpha \\right)} \\cos{\\left(\\mu \\right)} + Q \\cos{\\left(\\beta \\right)} \\cos{\\left(\\mu \\right)} - R \\sin{\\left(\\alpha \\right)} \\sin{\\left(\\beta \\right)} \\cos{\\left(\\mu \\right)} - R \\sin{\\left(\\mu \\right)} \\cos{\\left(\\alpha \\right)} - \\sin{\\left(\\mu \\right)} \\dot{\\beta} - \\cos{\\left(\\beta \\right)} \\cos{\\left(\\mu \\right)} \\dot{\\alpha}, \\  \\dot{\\mu} : - P \\sin{\\left(\\alpha \\right)} \\cos{\\left(\\mu \\right)} \\tan{\\left(\\gamma \\right)} - P \\sin{\\left(\\beta \\right)} \\sin{\\left(\\mu \\right)} \\cos{\\left(\\alpha \\right)} \\tan{\\left(\\gamma \\right)} + P \\cos{\\left(\\alpha \\right)} \\cos{\\left(\\beta \\right)} + Q \\sin{\\left(\\beta \\right)} + Q \\sin{\\left(\\mu \\right)} \\cos{\\left(\\beta \\right)} \\tan{\\left(\\gamma \\right)} - R \\sin{\\left(\\alpha \\right)} \\sin{\\left(\\beta \\right)} \\sin{\\left(\\mu \\right)} \\tan{\\left(\\gamma \\right)} + R \\sin{\\left(\\alpha \\right)} \\cos{\\left(\\beta \\right)} + R \\cos{\\left(\\alpha \\right)} \\cos{\\left(\\mu \\right)} \\tan{\\left(\\gamma \\right)} - \\sin{\\left(\\beta \\right)} \\dot{\\alpha} - \\sin{\\left(\\mu \\right)} \\cos{\\left(\\beta \\right)} \\tan{\\left(\\gamma \\right)} \\dot{\\alpha} + \\cos{\\left(\\mu \\right)} \\tan{\\left(\\gamma \\right)} \\dot{\\beta}\\right\\}$"
      ],
      "text/plain": [
       "⎧   -P⋅sin(α)⋅cos(μ) - P⋅sin(β)⋅sin(μ)⋅cos(α) + Q⋅sin(μ)⋅cos(β) - R⋅sin(α)⋅sin\n",
       "⎨χ̇: ─────────────────────────────────────────────────────────────────────────\n",
       "⎩                                                                  cos(γ)     \n",
       "\n",
       "(β)⋅sin(μ) + R⋅cos(α)⋅cos(μ) - sin(μ)⋅cos(β)⋅α̇ + cos(μ)⋅β̇                   \n",
       "──────────────────────────────────────────────────────────, γ̇: P⋅sin(α)⋅sin(μ\n",
       "                                                                              \n",
       "\n",
       "                                                                              \n",
       ") - P⋅sin(β)⋅cos(α)⋅cos(μ) + Q⋅cos(β)⋅cos(μ) - R⋅sin(α)⋅sin(β)⋅cos(μ) - R⋅sin(\n",
       "                                                                              \n",
       "\n",
       "                                                                              \n",
       "μ)⋅cos(α) - sin(μ)⋅β̇ - cos(β)⋅cos(μ)⋅α̇, μ̇: -P⋅sin(α)⋅cos(μ)⋅tan(γ) - P⋅sin(\n",
       "                                                                              \n",
       "\n",
       "                                                                              \n",
       "β)⋅sin(μ)⋅cos(α)⋅tan(γ) + P⋅cos(α)⋅cos(β) + Q⋅sin(β) + Q⋅sin(μ)⋅cos(β)⋅tan(γ) \n",
       "                                                                              \n",
       "\n",
       "                                                                              \n",
       "- R⋅sin(α)⋅sin(β)⋅sin(μ)⋅tan(γ) + R⋅sin(α)⋅cos(β) + R⋅cos(α)⋅cos(μ)⋅tan(γ) - s\n",
       "                                                                              \n",
       "\n",
       "                                               ⎫\n",
       "in(β)⋅α̇ - sin(μ)⋅cos(β)⋅tan(γ)⋅α̇ + cos(μ)⋅tan(γ)⋅β̇⎬\n",
       "                                             ⎭"
      ]
     },
     "execution_count": 16,
     "metadata": {},
     "output_type": "execute_result"
    }
   ],
   "source": [
    "sol_rot"
   ]
  }
 ],
 "metadata": {
  "kernelspec": {
   "display_name": ".venv",
   "language": "python",
   "name": "python3"
  },
  "language_info": {
   "codemirror_mode": {
    "name": "ipython",
    "version": 3
   },
   "file_extension": ".py",
   "mimetype": "text/x-python",
   "name": "python",
   "nbconvert_exporter": "python",
   "pygments_lexer": "ipython3",
   "version": "3.10.6"
  },
  "orig_nbformat": 4,
  "vscode": {
   "interpreter": {
    "hash": "b85317a6a547cfccf7118c3a7bd8c99c1a6962a272b17ec2f4fe2604f9280ead"
   }
  }
 },
 "nbformat": 4,
 "nbformat_minor": 2
}
