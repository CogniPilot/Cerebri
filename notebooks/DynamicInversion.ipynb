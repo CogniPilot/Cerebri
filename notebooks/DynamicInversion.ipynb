{
 "cells": [
  {
   "cell_type": "markdown",
   "metadata": {},
   "source": [
    "# Multirotor Differential Flatness"
   ]
  },
  {
   "attachments": {},
   "cell_type": "markdown",
   "metadata": {},
   "source": [
    "To show a quadrotor is differentially flat with respect to position $\\vec{p}_e$, we must be able to express the states (P, Q, R, $C^{eb}$, $\\vec{p}_e$, $\\vec{v}_b$) and inputs ($u_1$, $u_2$, $u_3$, $u_4$) in the terms of the flat output $\\vec{p}_e$ and its derivatives including velocity $\\vec{v}_e$, acceleration $\\vec{a}_e$, jerk $\\vec{j}_e$, and snap $\\vec{s}_e$.\n",
    "\n",
    "From Newton's 2nd law, where we consider thrust, weight, and aerodynamic forces $\\vec{A}$:\n",
    "\n",
    "$$  u_1 \\hat{z}^b - mg \\vec{z}^e + \\vec{A} = m \\vec{a} \\tag{1}$$\n",
    "\n",
    "$$ u_1 = \\left(m \\vec{a} + mg \\vec{z}_e - \\vec{A}\\right) \\cdot \\hat{z}^b$$\n",
    "\n",
    "## Attitude\n",
    "\n",
    "To produce the desired thrust vector, the quadrotor must have the body z vector aligned with the thrust:\n",
    "\n",
    "$$\\hat{z}^b = \\dfrac{m \\vec{a} + mg \\vec{z}_e - \\vec{A}}{|m \\vec{a} + mg \\vec{z}_e - \\vec{A}|}$$\n",
    "\n",
    "To find the orientation, we must define how we wish the vehicle to be pointed, we will point it the direction $\\psi_c$:\n",
    "\n",
    "$$\\hat{x}^c = \\cos{\\psi} \\hat{x}^e + \\sin{\\psi} \\hat{y}^e$$\n",
    "\n",
    "$$\\hat{y}^b =  \\dfrac{\\hat{x}^c \\times \\hat{z}^b}{|\\hat{x}^c \\times \\hat{z}^b|}$$\n",
    "\n",
    "$$\\hat{x}^b =  \\hat{y}^b \\times \\hat{z}^b$$\n",
    "\n",
    "We then arrive at the desired direction cossine matrix.\n",
    "\n",
    "$$C^{eb} = \\begin{bmatrix} \\hat{x}^b_e & \\hat{y}^b_e & \\hat{z}^b_e \\end{bmatrix}$$"
   ]
  },
  {
   "attachments": {},
   "cell_type": "markdown",
   "metadata": {},
   "source": [
    "## Angular Velocity\n",
    "\n",
    "$$\\vec{j}_b =C^{be} \\vec{j}_e$$\n",
    "\n",
    "Taking the derivative of (Eq. 1) with respect to the e frame in the b working frame:\n",
    "\n",
    "$$\\dot{u_1} \\hat{z}^b_b  + \\dot{\\vec{A}}_b + \\vec{\\omega}^{eb}_b \\times \\left(u_1 \\hat{z}^b_b  + \\vec{A}_b\\right) = m \\vec{j}_b \\tag{2}$$\n",
    "\n",
    "Defining $\\vec{\\omega}^{eb} = P \\hat{x}^b + Q \\hat{y}^b + R \\hat{z}^b$\n",
    "\n",
    "$$\\dot{u_1} \\hat{z}^b_b  + (P \\hat{x}^b_b + Q \\hat{y}^b_b + R \\hat{z}^b_b) \\times u_1 \\hat{z}^b_b  = m \\vec{j}_b$$\n",
    "\n",
    "$$Q u_1 \\hat{x}^b_b - P u_1 \\hat{y}^b_b + \\dot{u_1} \\hat{z}^b_b = m \\vec{j}_b$$\n",
    "\n",
    "\n",
    "Which after takign the dot product with the 3 body unit vectors yields the 3 equations:\n",
    "\n",
    "$$Q u_ 1= m \\vec{j}_b \\cdot \\hat{x}^b_b$$\n",
    "\n",
    "$$P u_1 = -m\\vec{j}_b \\cdot \\hat{y}^b_b$$\n",
    "\n",
    "$$\\dot{u_1} = m \\vec{j}_b \\cdot \\hat{z}^b_b$$\n",
    "\n",
    "To find R, note that:\n",
    "\n",
    "$$\\vec{\\omega}^{eb} =  \\vec{\\omega}^{ec} +  \\vec{\\omega}^{cb}$$\n",
    "\n",
    "$$\\vec{\\omega}^{ec} =  \\dot{\\psi} \\vec{z}^e $$\n",
    "\n",
    "$$R = \\vec{\\omega}^{eb}\\cdot \\vec{z}^b =  \\vec{\\omega}^{ec}\\cdot \\vec{z}^b +  \\vec{\\omega}^{cb}\\cdot \\vec{z}^b$$\n",
    "\n",
    "Since the angular velocity of the camera with the respect to the body in the z direction ($ \\vec{\\omega}^{cb}\\cdot \\vec{z}^b = 0$) by construction then:\n",
    "\n",
    "$$R = \\dot{\\psi} \\vec{z}^e \\cdot \\vec{z}^b$$"
   ]
  },
  {
   "attachments": {},
   "cell_type": "markdown",
   "metadata": {},
   "source": [
    "## Angular Acceleration\n",
    "\n",
    "$$\\vec{s}_b = C^{be} \\vec{s}_e$$\n",
    "\n",
    "Taking the derivative of (Eq. 2) with respect to the e frame in the b working frame:\n",
    "\n",
    "$$\\ddot{u_1} \\hat{z}^b_b  + 2  \\vec{\\omega}^{eb}_b \\times \\dot{u_1} \\hat{z}^b_b  + \\dot{\\vec{\\omega}}^{eb}_b \\times u_1 \\hat{z}^b_b + \\vec{\\omega}^{eb}_b \\times \\vec{\\omega}^{eb}_b \\times u_1 \\hat{z}^b_b = m \\vec{s}_b \\tag{3}$$\n",
    "\n",
    "Expressing the angular velocity in the body frame and simplifying:\n",
    "\n",
    "$$\\ddot{u_1} \\hat{z}^b  + 2  (P \\hat{x}^b + Q \\hat{y}^b + R \\hat{z}^b) \\times \\dot{u_1} \\hat{z}^b  + (\\dot{P} \\hat{x}^b + \\dot{Q} \\hat{y}^b + \\dot{R} \\hat{z}^b) \\times u_1 \\hat{z}^b  +  (P \\hat{x}^b + Q \\hat{y}^b + R \\hat{z}^b) \\times  (- P u_1 \\hat{y}^b + Q u_1 \\hat{x}^b)= m \\vec{s}_b$$\n",
    "\n",
    "$$\\left(2 Q \\dot{u_1} + (\\dot{Q} + PR) u_1\\right) \\hat{x}^b - \\left(2 P \\dot{u_1} + (\\dot{P} + QR) u_1\\right) \\hat{y}^b + \\left(\\ddot{u_1} - (P^2 + Q^2) u_1\\right) \\hat{z}^b  = m \\vec{s}_b$$\n",
    "\n",
    "Which after takign the dot product with the 3 body unit vectors yields the 3 equations:\n",
    "\n",
    "$$ 2 Q \\dot{u_1} + (\\dot{Q} + PR) u_1= m \\vec{s}_b \\cdot \\hat{x}^b_b$$\n",
    "\n",
    "$$2 P \\dot{u_1} + (\\dot{P} + QR) u_1 = - m \\vec{s}_b \\cdot \\hat{y}^b_b$$\n",
    "\n",
    "$$\\ddot{u_1} - (P^2 + Q^2) u_1 = m \\vec{s}_b \\cdot \\hat{z}^b_b$$\n",
    "\n",
    "To find the derivative of R, we take the derivative component wise of:\n",
    "\n",
    "$$R = \\dot{\\psi} \\vec{z}^e \\cdot \\vec{z}^b =  \\dot{\\psi} \\vec{z}^e_e \\cdot C^{eb} \\vec{z}^b_b$$\n",
    "\n",
    "$$\\dot{R} = \\ddot{\\psi} \\vec{z}^e_e \\cdot C^{eb} \\vec{z}^b_b + \\dot{\\psi} \\vec{z}^e_e \\cdot \\dot{C}^{eb} \\vec{z}^b_b$$\n",
    "\n",
    "$$\\dot{R} = \\ddot{\\psi} \\vec{z}^e_e \\cdot C^{eb} \\vec{z}^b_b + \\dot{\\psi} \\vec{z}^e_e \\cdot C^{eb}\\left[\\vec{\\omega}^{eb}_b\\right]^{\\wedge}\\vec{z}^b_b$$\n",
    "\n",
    "$$\\dot{R} = \\ddot{\\psi} \\vec{z}^e_e \\cdot C^{eb} \\vec{z}^b_b + \\dot{\\psi} \\vec{z}^e_e \\cdot C^{eb}\\left( \\vec{\\omega}^{eb}_b \\times \\vec{z}^b_b \\right)$$"
   ]
  },
  {
   "attachments": {},
   "cell_type": "markdown",
   "metadata": {},
   "source": [
    "## Translational Velocity\n",
    "\n",
    "Finding the body velocity only requires use of the DCM.\n",
    "\n",
    "$$\\vec{v}_b =  C^{be} \\vec{v}_e$$"
   ]
  },
  {
   "attachments": {},
   "cell_type": "markdown",
   "metadata": {},
   "source": [
    "## Translational Acceleration\n",
    "\n",
    "Taking the derivate of the velocity with respect to the frame e in the b working frame:\n",
    "\n",
    "$$\\vec{a}_b = \\dot{\\vec{v}}_b + \\vec{\\omega}^{eb}_b \\times \\vec{v_b}$$\n",
    "\n",
    "$$\\dot{\\vec{v}}_b = \\vec{a}_b - \\vec{\\omega}^{eb}_b \\times \\vec{v_b}$$"
   ]
  },
  {
   "attachments": {},
   "cell_type": "markdown",
   "metadata": {},
   "source": [
    "# Moments\n",
    "\n",
    "Now, we can use the equations of motion to solve for the remaining inputs ($u_2$, $u_3$, $u_4$), assuming no external moments:\n",
    "\n",
    "$$u_2 \\vec{x}^b_b + u_3 \\vec{y}^b_b + u_4 \\vec{z}^b_b  = J \\dot{\\vec{\\omega}}^{eb}_b + \\vec{\\omega}^{eb}_b \\times J \\vec{\\omega}^{eb}_b$$"
   ]
  },
  {
   "attachments": {},
   "cell_type": "markdown",
   "metadata": {},
   "source": [
    "## Summary\n",
    "\n",
    "Orientation:\n",
    "\n",
    "$$\\begin{align*}\n",
    "\\hat{z}^b_e &= \\dfrac{m g \\hat{z}^e_e + m \\vec{a}_e}{|m g \\hat{z}^e_e + m \\vec{a}_e|} \\\\\n",
    "\\hat{x}^c_e &= \\cos{\\psi} \\hat{x}^e_e + \\sin{\\psi} \\hat{y}^e_e \\\\\n",
    "\\hat{y}^b_e &=  \\dfrac{\\hat{x}^c_e \\times \\hat{z}^b_e}{|\\hat{x}^c_e \\times \\hat{z}^b_e|} \\\\\n",
    "\\hat{x}^b_e &=  \\hat{y}^b_e \\times \\hat{z}^b_e \\\\\n",
    "C^{eb} &= \\begin{bmatrix}\\hat{x}^b_e & \\hat{y}^b_e & \\hat{z}^b_e \\end{bmatrix} \\\\\n",
    "C^{be} &= \\left[C^{eb}\\right]^{T} = \\begin{bmatrix}\\hat{x}^e_b & \\hat{y}^e_b & \\hat{z}^e_b \\end{bmatrix} \\\\\n",
    "\\end{align*}$$\n",
    "\n",
    "Angular Velocity: \n",
    "$$\\begin{align*}\n",
    "\\vec{j}_b &= C^{be} \\vec{j}_e \\\\\n",
    "\\vec{\\omega}^{eb} &\\equiv P \\vec{x}^b + Q \\vec{y}^b + R \\vec{z}^b \\\\\n",
    "P &= -\\dfrac{m}{u_1} \\vec{j}_b \\cdot \\hat{y}^b_b \\\\\n",
    "Q &= \\dfrac{m}{u_1} \\vec{j}_b \\cdot \\hat{x}^b_b \\\\\n",
    "R &= \\dot{\\psi} \\vec{z}^e_b \\cdot \\vec{z}^b_b \\\\\n",
    "\\end{align*}$$\n",
    "\n",
    "Angular Acceleration: \n",
    "$$\\begin{align*}\n",
    "\\dot{u_1} &= m \\vec{j}_b \\cdot \\hat{z}^b_b \\\\\n",
    "\\vec{s}_b &= C^{be} \\vec{s}_e \\\\\n",
    "\\dot{\\vec{\\omega}}^{eb}_b &\\equiv \\dot{P} \\vec{x}^b_b + \\dot{Q} \\vec{y}^b_b + \\dot{R} \\vec{z}^b_b \\\\\n",
    "\\dot{P} &= \\dfrac{-m \\vec{s}_b \\cdot \\hat{y}^b_b - 2 P \\dot{u_1}}{u_1} - QR \\\\\n",
    "\\dot{Q} &= \\dfrac{m \\vec{s}_b \\cdot \\hat{x}^b_b - 2 Q \\dot{u_1}}{u_1} - PR \\\\\n",
    "\\dot{R} &= \\ddot{\\psi} \\vec{z}^e_b \\cdot \\vec{z}^b_b + \\dot{\\psi} \\vec{z}^e_b \\cdot \\left( \\vec{\\omega}^{eb}_b \\times \\vec{z}^b_b \\right) \\\\\n",
    "\\end{align*}$$\n",
    "\n",
    "Translational Velocity: \n",
    "$$\\begin{align*}\n",
    "\\vec{v} &\\equiv U \\vec{x}^b + V \\vec{y}^b + W \\vec{z}^b \\\\\n",
    "\\vec{v}_b &=  C^{be} \\vec{v}_e\n",
    "\\end{align*}$$\n",
    "\n",
    "Translational Acceleration: \n",
    "$$\\begin{align*}\n",
    "\\dot{\\vec{v}}_b &\\equiv  \\dot{U} \\vec{x}^b_b + \\dot{V} \\vec{y}^b_b + \\dot{W} \\vec{z}^b_b \\\\\n",
    "\\vec{a}_b &= C^{be} \\vec{a}_e \\\\\n",
    "\\dot{\\vec{v}}_b &= \\vec{a}_b - \\vec{\\omega}^{eb}_b \\times \\vec{v_b}\n",
    "\\end{align*}$$\n",
    "\n",
    "Inputs:\n",
    "\n",
    "$$\\begin{align*}\n",
    "\\dot{H}^b_b &= J \\dot{\\vec{\\omega}}^{eb}_b + \\vec{\\omega}^{eb}_b \\times J \\vec{\\omega}^{eb}_b \\\\\n",
    "u_1 &= \\left(m g \\hat{z}^e_b + m \\vec{a}_b \\right) \\cdot \\hat{z}^b_b \\\\\n",
    "u_2 &= \\dot{H}^b_b \\cdot \\vec{x}^b_b \\\\\n",
    "u_3 &= \\dot{H}^b_b \\cdot \\vec{y}^b_b \\\\\n",
    "u_4 &= \\dot{H}^b_b \\cdot \\vec{z}^b_b\n",
    "\\end{align*}$$"
   ]
  },
  {
   "cell_type": "code",
   "execution_count": 80,
   "metadata": {},
   "outputs": [],
   "source": [
    "import sympy\n",
    "import sympy.physics.mechanics as mech\n",
    "mech.init_vprinting()\n",
    "\n",
    "\n",
    "\n",
    "u_1 = mech.dynamicsymbols('u_1')\n",
    "m, g = sympy.symbols('m, g')\n",
    "t = sympy.symbols('t')\n",
    "psi, theta, phi, P, Q, R = mech.dynamicsymbols('psi, theta, phi, P, Q, R')\n",
    "frame_e = mech.ReferenceFrame('e')\n",
    "frame_b = frame_e.orientnew('b', 'Body', (psi, theta, phi), '321')\n",
    "omega = P*frame_b.x + Q*frame_b.y + R*frame_b.z\n",
    "frame_b.set_ang_vel(frame_e, omega)"
   ]
  },
  {
   "cell_type": "code",
   "execution_count": 70,
   "metadata": {},
   "outputs": [],
   "source": [
    "def bke(v, t, frame_w, frame_r):\n",
    "    return v.diff(t, frame_w) + frame_w.ang_vel_in(frame_r).cross(v)"
   ]
  },
  {
   "cell_type": "code",
   "execution_count": 71,
   "metadata": {},
   "outputs": [
    {
     "data": {
      "image/png": "[encoded data removed]",
      "text/latex": [
       "$\\displaystyle u_{1}\\mathbf{\\hat{b}_z} -  g m\\mathbf{\\hat{e}_z}$"
      ],
      "text/plain": [
       "u₁ b_z + -g⋅m e_z"
      ]
     },
     "execution_count": 71,
     "metadata": {},
     "output_type": "execute_result"
    }
   ],
   "source": [
    "f = u_1*frame_b.z - m*g*frame_e.z\n",
    "f"
   ]
  },
  {
   "cell_type": "code",
   "execution_count": 72,
   "metadata": {},
   "outputs": [
    {
     "data": {
      "image/png": "[encoded data removed]",
      "text/latex": [
       "$\\displaystyle Q u_{1}\\mathbf{\\hat{b}_x} -  P u_{1}\\mathbf{\\hat{b}_y} + \\dot{u}_{1}\\mathbf{\\hat{b}_z}$"
      ],
      "text/plain": [
       "Q⋅u₁ b_x + -P⋅u₁ b_y + u₁̇ b_z"
      ]
     },
     "execution_count": 72,
     "metadata": {},
     "output_type": "execute_result"
    }
   ],
   "source": [
    "bke(u_1*frame_b.z , t, frame_b, frame_e)"
   ]
  },
  {
   "cell_type": "code",
   "execution_count": 74,
   "metadata": {},
   "outputs": [
    {
     "data": {
      "image/png": "[encoded data removed]",
      "text/latex": [
       "$\\displaystyle -  g m \\cos{\\left(\\theta \\right)} \\dot{\\theta}\\mathbf{\\hat{b}_x} + (- g m \\sin{\\left(\\phi \\right)} \\sin{\\left(\\theta \\right)} \\dot{\\theta} + g m \\cos{\\left(\\phi \\right)} \\cos{\\left(\\theta \\right)} \\dot{\\phi})\\mathbf{\\hat{b}_y} + (- g m \\sin{\\left(\\phi \\right)} \\cos{\\left(\\theta \\right)} \\dot{\\phi} - g m \\sin{\\left(\\theta \\right)} \\cos{\\left(\\phi \\right)} \\dot{\\theta})\\mathbf{\\hat{b}_z}$"
      ],
      "text/plain": [
       "-g⋅m⋅cos(θ)⋅θ̇ b_x + (-g⋅m⋅sin(φ)⋅sin(θ)⋅θ̇ + g⋅m⋅cos(φ)⋅cos(θ)⋅φ̇) b_y + (-g⋅\n",
       "m⋅sin(φ)⋅cos(θ)⋅φ̇ - g⋅m⋅sin(θ)⋅cos(φ)⋅θ̇) b_z"
      ]
     },
     "execution_count": 74,
     "metadata": {},
     "output_type": "execute_result"
    }
   ],
   "source": [
    "(m*g*frame_e.z).diff(t, frame_b)"
   ]
  },
  {
   "cell_type": "code",
   "execution_count": 57,
   "metadata": {},
   "outputs": [
    {
     "data": {
      "image/png": "[encoded data removed]",
      "text/latex": [
       "$\\displaystyle (g m \\cos{\\left(\\theta \\right)} \\dot{\\theta} + Q u_{1})\\mathbf{\\hat{b}_x} + (g m \\sin{\\left(\\phi \\right)} \\sin{\\left(\\theta \\right)} \\dot{\\theta} - g m \\cos{\\left(\\phi \\right)} \\cos{\\left(\\theta \\right)} \\dot{\\phi} - P u_{1})\\mathbf{\\hat{b}_y} + (g m \\sin{\\left(\\phi \\right)} \\cos{\\left(\\theta \\right)} \\dot{\\phi} + g m \\sin{\\left(\\theta \\right)} \\cos{\\left(\\phi \\right)} \\dot{\\theta} + \\dot{u}_{1})\\mathbf{\\hat{b}_z} -  g m \\left(\\left(- \\sin{\\left(\\phi \\right)} \\cos{\\left(\\psi \\right)} + \\sin{\\left(\\psi \\right)} \\sin{\\left(\\theta \\right)} \\cos{\\left(\\phi \\right)}\\right) R + \\left(\\sin{\\left(\\phi \\right)} \\sin{\\left(\\psi \\right)} \\sin{\\left(\\theta \\right)} + \\cos{\\left(\\phi \\right)} \\cos{\\left(\\psi \\right)}\\right) Q + P \\sin{\\left(\\psi \\right)} \\cos{\\left(\\theta \\right)}\\right)\\mathbf{\\hat{e}_x} + g m \\left(\\left(\\sin{\\left(\\phi \\right)} \\sin{\\left(\\psi \\right)} + \\sin{\\left(\\theta \\right)} \\cos{\\left(\\phi \\right)} \\cos{\\left(\\psi \\right)}\\right) R + \\left(\\sin{\\left(\\phi \\right)} \\sin{\\left(\\theta \\right)} \\cos{\\left(\\psi \\right)} - \\sin{\\left(\\psi \\right)} \\cos{\\left(\\phi \\right)}\\right) Q + P \\cos{\\left(\\psi \\right)} \\cos{\\left(\\theta \\right)}\\right)\\mathbf{\\hat{e}_y}$"
      ],
      "text/plain": [
       "(g⋅m⋅cos(θ)⋅θ̇ + Q⋅u₁) b_x + (g⋅m⋅sin(φ)⋅sin(θ)⋅θ̇ - g⋅m⋅cos(φ)⋅cos(θ)⋅φ̇ - P⋅\n",
       "u₁) b_y + (g⋅m⋅sin(φ)⋅cos(θ)⋅φ̇ + g⋅m⋅sin(θ)⋅cos(φ)⋅θ̇ + u₁̇) b_z + -g⋅m⋅((-si\n",
       "n(φ)⋅cos(ψ) + sin(ψ)⋅sin(θ)⋅cos(φ))⋅R + (sin(φ)⋅sin(ψ)⋅sin(θ) + cos(φ)⋅cos(ψ))\n",
       "⋅Q + P⋅sin(ψ)⋅cos(θ)) e_x + g⋅m⋅((sin(φ)⋅sin(ψ) + sin(θ)⋅cos(φ)⋅cos(ψ))⋅R + (s\n",
       "in(φ)⋅sin(θ)⋅cos(ψ) - sin(ψ)⋅cos(φ))⋅Q + P⋅cos(ψ)⋅cos(θ)) e_y"
      ]
     },
     "execution_count": 57,
     "metadata": {},
     "output_type": "execute_result"
    }
   ],
   "source": [
    "bke(f, t, frame_b, frame_e)"
   ]
  },
  {
   "cell_type": "code",
   "execution_count": 55,
   "metadata": {},
   "outputs": [
    {
     "data": {
      "image/png": "[encoded data removed]",
      "text/latex": [
       "$\\displaystyle (\\left(\\sin{\\left(\\phi \\right)} \\sin{\\left(\\psi \\right)} + \\sin{\\left(\\theta \\right)} \\cos{\\left(\\phi \\right)} \\cos{\\left(\\psi \\right)}\\right) \\dot{u}_{1} + \\left(- \\sin{\\left(\\phi \\right)} \\sin{\\left(\\theta \\right)} \\cos{\\left(\\psi \\right)} \\dot{\\phi} + \\sin{\\left(\\phi \\right)} \\cos{\\left(\\psi \\right)} \\dot{\\psi} - \\sin{\\left(\\psi \\right)} \\sin{\\left(\\theta \\right)} \\cos{\\left(\\phi \\right)} \\dot{\\psi} + \\sin{\\left(\\psi \\right)} \\cos{\\left(\\phi \\right)} \\dot{\\phi} + \\cos{\\left(\\phi \\right)} \\cos{\\left(\\psi \\right)} \\cos{\\left(\\theta \\right)} \\dot{\\theta}\\right) u_{1})\\mathbf{\\hat{e}_x} + (\\left(- \\sin{\\left(\\phi \\right)} \\cos{\\left(\\psi \\right)} + \\sin{\\left(\\psi \\right)} \\sin{\\left(\\theta \\right)} \\cos{\\left(\\phi \\right)}\\right) \\dot{u}_{1} + \\left(- \\sin{\\left(\\phi \\right)} \\sin{\\left(\\psi \\right)} \\sin{\\left(\\theta \\right)} \\dot{\\phi} + \\sin{\\left(\\phi \\right)} \\sin{\\left(\\psi \\right)} \\dot{\\psi} + \\sin{\\left(\\psi \\right)} \\cos{\\left(\\phi \\right)} \\cos{\\left(\\theta \\right)} \\dot{\\theta} + \\sin{\\left(\\theta \\right)} \\cos{\\left(\\phi \\right)} \\cos{\\left(\\psi \\right)} \\dot{\\psi} - \\cos{\\left(\\phi \\right)} \\cos{\\left(\\psi \\right)} \\dot{\\phi}\\right) u_{1})\\mathbf{\\hat{e}_y} + (- u_{1} \\sin{\\left(\\phi \\right)} \\cos{\\left(\\theta \\right)} \\dot{\\phi} - u_{1} \\sin{\\left(\\theta \\right)} \\cos{\\left(\\phi \\right)} \\dot{\\theta} + \\cos{\\left(\\phi \\right)} \\cos{\\left(\\theta \\right)} \\dot{u}_{1})\\mathbf{\\hat{e}_z}$"
      ],
      "text/plain": [
       "((sin(φ)⋅sin(ψ) + sin(θ)⋅cos(φ)⋅cos(ψ))⋅u₁̇ + (-sin(φ)⋅sin(θ)⋅cos(ψ)⋅φ̇ + sin(\n",
       "φ)⋅cos(ψ)⋅ψ̇ - sin(ψ)⋅sin(θ)⋅cos(φ)⋅ψ̇ + sin(ψ)⋅cos(φ)⋅φ̇ + cos(φ)⋅cos(ψ)⋅cos(\n",
       "θ)⋅θ̇)⋅u₁) e_x + ((-sin(φ)⋅cos(ψ) + sin(ψ)⋅sin(θ)⋅cos(φ))⋅u₁̇ + (-sin(φ)⋅sin(ψ\n",
       ")⋅sin(θ)⋅φ̇ + sin(φ)⋅sin(ψ)⋅ψ̇ + sin(ψ)⋅cos(φ)⋅cos(θ)⋅θ̇ + sin(θ)⋅cos(φ)⋅cos(ψ\n",
       ")⋅ψ̇ - cos(φ)⋅cos(ψ)⋅φ̇)⋅u₁) e_y + (-u₁⋅sin(φ)⋅cos(θ)⋅φ̇ - u₁⋅sin(θ)⋅cos(φ)⋅θ̇\n",
       " + cos(φ)⋅cos(θ)⋅u₁̇) e_z"
      ]
     },
     "execution_count": 55,
     "metadata": {},
     "output_type": "execute_result"
    }
   ],
   "source": [
    "(u_1*frame_b.z).diff(t, frame_e)"
   ]
  },
  {
   "cell_type": "code",
   "execution_count": 45,
   "metadata": {},
   "outputs": [
    {
     "data": {
      "image/png": "[encoded data removed]",
      "text/latex": [
       "$\\displaystyle Q u_{1}\\mathbf{\\hat{b}_x} -  P u_{1}\\mathbf{\\hat{b}_y}$"
      ],
      "text/plain": [
       "Q⋅u₁ b_x + -P⋅u₁ b_y"
      ]
     },
     "execution_count": 45,
     "metadata": {},
     "output_type": "execute_result"
    }
   ],
   "source": [
    "frame_b.ang_vel_in(frame_e).cross(u_1*frame_b.z)"
   ]
  }
 ],
 "metadata": {
  "kernelspec": {
   "display_name": ".venv",
   "language": "python",
   "name": "python3"
  },
  "language_info": {
   "codemirror_mode": {
    "name": "ipython",
    "version": 3
   },
   "file_extension": ".py",
   "mimetype": "text/x-python",
   "name": "python",
   "nbconvert_exporter": "python",
   "pygments_lexer": "ipython3",
   "version": "3.10.6 (main, Nov 14 2022, 16:10:14) [GCC 11.3.0]"
  },
  "orig_nbformat": 4,
  "vscode": {
   "interpreter": {
    "hash": "b85317a6a547cfccf7118c3a7bd8c99c1a6962a272b17ec2f4fe2604f9280ead"
   }
  }
 },
 "nbformat": 4,
 "nbformat_minor": 2
}
