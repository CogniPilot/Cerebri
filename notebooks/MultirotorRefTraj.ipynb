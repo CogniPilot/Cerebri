{
 "cells": [
  {
   "attachments": {},
   "cell_type": "markdown",
   "metadata": {},
   "source": [
    "# Multirotor Reference Trajectory"
   ]
  },
  {
   "attachments": {},
   "cell_type": "markdown",
   "metadata": {},
   "source": [
    "## References\n",
    "* Mellinger, Daniel Warren, \"Trajectory Generation and Control for Quadrotors\" (2012). Publicly Accessible Penn Dissertations. 547. (pg. 16)\n",
    "\n",
    "## Notation\n",
    "\n",
    "We will use a notation where $\\hat{x}^b_w$ is the x unit vector of frame b expressed in component of frame w, $\\vec{v}_b$ is a vector v expressed in components of frame b, and $\\vec{\\omega}^{eb}_b$ is the angular velocity of frame b with respect to frame, expressed in components of frame b. If not coordinate frame is indicated, it indicates the general vector that can be expressed in any frame. The rotation matrix $C^e_b$ operates on vectors such that $\\vec{v}_b = C^e_b \\vec{v}_e$. This convention let's us be very specific about the coordinate frame each vector is expressed in when necessary.\n",
    "\n",
    "\n",
    "## Problem Statement\n",
    "\n",
    "To simplify planning, we will leverage the differential flatness of the multirotor to solve for the states and inputs as a fucntion of the flat outputs and their derivatives.\n",
    "\n",
    "\n",
    "### Flat Outputs:\n",
    "* $\\vec{p}_e$ : the position of the multirotor expressed in the e frame\n",
    "* $\\psi$ : the desired yaw angle\n",
    "\n",
    "### Flat Output Derivatives:\n",
    "* $\\vec{v}_e$ : the velocity of the multirotor expressed in the e frame\n",
    "* $\\vec{a}_e$ : the acceleration of the multirotor expressed in the e frame\n",
    "* $\\vec{j}_e$ : the jerk of the multirotor expressed in the e frame\n",
    "* $\\vec{s}_e$ : the snap of the multirotor expressed in the e frame\n",
    "* $\\dot{\\psi}$, $\\ddot{\\psi}$, $\\ldots{}$ : derivatives of the yaw angle\n",
    "* higher derivatives if necessary\n",
    "\n",
    "### States\n",
    "* $\\vec{p}_e$ : the position of the multirotor expressed in the e frame\n",
    "* $\\vec{v}_b$ : the velocity of the multirotor wrt the e frame expressed in the b frame\n",
    "* $C^b_e$ : the direction cosine matrix, element of $SO(3)$, of the states wrt to the b frame, can be parameterized with Euler angles, quaternions, etc.\n",
    "* $\\vec{\\omega}^{eb}_b$ : the angular velocity of body frame wrt the e frame expressed in the b frame\n",
    "\n",
    "## Inputs:\n",
    "* T : The thrust\n",
    "* $\\vec{M}_b$ : the control moment of the quadrotor due to the motors expressed in the b (body) frame\n",
    "\n",
    "### Frames\n",
    "\n",
    "**Note we deviate from Mellginer's convention and use the North-East-Down instead of East-North-Up frame to follow aeronautical convention.**\n",
    "\n",
    "* e : earth/world frame, inertial frame, (North-East-Down)\n",
    "* c : camera frame, rotated from earth frame by: $\\psi \\hat{e}^z$\n",
    "* b : body frame, fixed in multirotor, (Forward-Right-Down)\n",
    "\n",
    "Constants:\n",
    "* m : mass of multirotor\n",
    "* g : acceleration of gravity\n"
   ]
  },
  {
   "attachments": {},
   "cell_type": "markdown",
   "metadata": {},
   "source": [
    "\n",
    "## Solve for $C^b_e$\n",
    "\n",
    "\n",
    "From Newton's 2nd Law:\n",
    "\n",
    "$$m\\vec{a} = -T \\hat{z}^b + m g \\hat{z}^e$$\n",
    "Note $\\hat{z}^w$ is the down direction in the earth frame and $\\hat{z}^b$ is the down direction in the body-fixed frame.\n",
    "\n",
    "Solving for Thrust (T):\n",
    "\n",
    "$$T \\hat{z}^b = m(\\vec{a} +  g \\hat{z}^e)$$\n",
    "\n",
    "We can now solve for $\\hat{z}^b$ and T:\n",
    "\n",
    "$$\\vec{t}_e \\equiv m(\\vec{a}_e -  g \\hat{z}^e_e)$$\n",
    "\n",
    "$$T = ||\\vec{t}_e||$$\n",
    "\n",
    "$$\\hat{z}^b_e = \\dfrac{\\vec{t_e}}{T}$$\n",
    "\n",
    "This will result in a singularity if $T = 0$.\n",
    "\n",
    "\n",
    "We wish to specify the yaw angle $\\psi$, and can do so by computing the body unit vector $\\hat{y}^b$ as follows:\n",
    "\n",
    "$$\\vec{x}^c_e = \\begin{bmatrix} \\cos{\\psi} & \\sin{\\psi} & 0 \\end{bmatrix}^T$$\n",
    "\n",
    "$$\\hat{y}^b_e = \\dfrac{\\hat{z}^b_e \\times \\hat{x}^c_e}{||\\hat{z}^b_e \\times \\hat{x}^c_e||}$$\n",
    "This will result in a singularity if $\\hat{z}^b_e$ is aligned with $\\hat{x}^c_e$.\n",
    "\n",
    "We can solve for $\\hat{x}^b_e$ using the cross product of unit vectors:\n",
    "\n",
    "$$\\hat{x}^b_e = \\hat{y}^b_e \\times \\hat{z}^b_e$$\n",
    "\n",
    "Finally, we can construct $C^b_e$ using the unit vectors:\n",
    "\n",
    "$$C^b_e = \\begin{bmatrix} \\hat{x}^b_e & \\hat{y}^b_e & \\hat{z}^b_e \\end{bmatrix}$$\n"
   ]
  },
  {
   "cell_type": "code",
   "execution_count": 2,
   "metadata": {},
   "outputs": [],
   "source": [
    "import casadi as ca\n",
    "\n",
    "# flat output (input variables from trajectory planner)\n",
    "a_e = ca.SX.sym('a_e', 3)  # accel\n",
    "j_e = ca.SX.sym('j_e', 3)  # jerk\n",
    "s_e = ca.SX.sym('s_e', 3)  # snap\n",
    "\n",
    "psi = ca.SX.sym('psi')  # desired heading direction\n",
    "psi_dot = ca.SX.sym('psi_dot')  # derivative of desired heading\n",
    "\n",
    "# constants\n",
    "m = ca.SX.sym('m')  # mass\n",
    "g = ca.SX.sym('g')  # accel of gravity\n",
    "xh = ca.SX([1, 0, 0])\n",
    "yh = ca.SX([0, 1, 0])\n",
    "zh = ca.SX([0, 0, 1])\n",
    "\n",
    "# acceleration\n",
    "thrust_e = m*a_e - m*g*zh\n",
    "\n",
    "T = ca.norm_2(thrust_e)\n",
    "zb_e = thrust_e/T  # can have singularity when T = 0\n",
    "\n",
    "# desired heading direction\n",
    "xc_e = ca.cos(psi)*xh + ca.sin(psi)*yh\n",
    "\n",
    "yb_e = ca.cross(zb_e, xc_e)\n",
    "yb_e = yb_e/ca.norm_2(yb_e)  # normalize y_b, can have singularity when z_b and x_c aligned\n",
    "xb_e = ca.cross(yb_e, zb_e)\n",
    "\n",
    "#T_dot = ca.dot(m*s_e, zb_e)\n",
    "C_be = ca.hcat([xb_e, yb_e, zb_e])\n"
   ]
  },
  {
   "attachments": {},
   "cell_type": "markdown",
   "metadata": {},
   "source": [
    "## Solve for $\\vec{\\omega}^{eb}_b$"
   ]
  },
  {
   "cell_type": "code",
   "execution_count": 34,
   "metadata": {},
   "outputs": [
    {
     "data": {
      "text/plain": [
       "DM([-0.0376079, 0.170361, 0.00590173])"
      ]
     },
     "execution_count": 34,
     "metadata": {},
     "output_type": "execute_result"
    }
   ],
   "source": [
    "# note h_omega z_b component can be ignored with dot product below\n",
    "t2_e = m/T*j_e\n",
    "p = -ca.dot(t2_e, yb_e)\n",
    "q = ca.dot(t2_e, xb_e)\n",
    "\n",
    "# solve for euler angles based on DCM\n",
    "theta = ca.asin(-C_be[2, 0])\n",
    "phi = ca.if_else(\n",
    "    ca.fabs(ca.fabs(theta) - ca.pi/2) < 1e-3,\n",
    "    0,\n",
    "    ca.atan2(C_be[2, 1], C_be[2, 2])\n",
    ")\n",
    "\n",
    "# sole for r\n",
    "r = -q*ca.tan(phi) + ca.cos(theta)*psi_dot/ca.cos(phi)  # from R_solve below, singularity at phi=pi\n",
    "\n",
    "omega_eb_b = p*xh + q*yh + r*zh\n",
    "\n",
    "# create function\n",
    "f_omega_eb_b = ca.Function('f_omega_eb_b',\n",
    "    [psi, psi_dot, a_e, j_e, m, g], [omega_eb_b],\n",
    "    ['psi', 'psi_dot', 'a_e', 'j_e', 'm', 'g'],\n",
    "    ['omega_eb_b']\n",
    "    )\n",
    "res = f_omega_eb_b(1, 0, [1, 1, 1], [1, 1, 1], 1, 9.8)\n",
    "res"
   ]
  },
  {
   "cell_type": "code",
   "execution_count": 32,
   "metadata": {},
   "outputs": [
    {
     "data": {
      "text/plain": [
       "'gen.c'"
      ]
     },
     "execution_count": 32,
     "metadata": {},
     "output_type": "execute_result"
    }
   ],
   "source": [
    "# c code generation\n",
    "generator = ca.CodeGenerator('gen')\n",
    "generator.add(f_omega_eb_b)\n",
    "generator.generate()"
   ]
  },
  {
   "cell_type": "code",
   "execution_count": 33,
   "metadata": {},
   "outputs": [
    {
     "name": "stdout",
     "output_type": "stream",
     "text": [
      "16.6 µs ± 153 ns per loop (mean ± std. dev. of 7 runs, 100,000 loops each)\n"
     ]
    }
   ],
   "source": [
    "%%timeit\n",
    "res = f_omega_eb_b(1, 0, [1, 2, 3], [1, 1, 1], 1, 9.8,)"
   ]
  },
  {
   "cell_type": "code",
   "execution_count": 10,
   "metadata": {},
   "outputs": [
    {
     "name": "stdout",
     "output_type": "stream",
     "text": [
      "(DM(-0.0376079), DM(0.170361), DM(0.00590173))\n"
     ]
    }
   ],
   "source": [
    "f_q = ca.Function('f_q', [psi, psi_dot, a_e, j_e, m, g], [p, q, r])\n",
    "res = f_q(1, 0, [1, 1, 1], [1, 1, 1], 1, 9.8)\n",
    "print(res)\n",
    "\n",
    "# c code generation\n",
    "#generator = ca.CodeGenerator('gen')\n",
    "#generator.add(f_q)\n",
    "#generator.generate()"
   ]
  },
  {
   "cell_type": "code",
   "execution_count": 28,
   "metadata": {},
   "outputs": [
    {
     "name": "stdout",
     "output_type": "stream",
     "text": [
      "17.2 µs ± 61.1 ns per loop (mean ± std. dev. of 7 runs, 100,000 loops each)\n"
     ]
    }
   ],
   "source": [
    "%%timeit\n",
    "f_q(1, 1, [1, 1, 1], [1, 2, 3], 1, 1)"
   ]
  },
  {
   "cell_type": "code",
   "execution_count": 72,
   "metadata": {},
   "outputs": [
    {
     "data": {
      "image/png": "[encoded data removed]",
      "text/latex": [
       "$\\displaystyle - q \\tan{\\left(\\phi \\right)} + \\frac{\\cos{\\left(\\theta \\right)} \\dot{\\psi}}{\\cos{\\left(\\phi \\right)}}$"
      ],
      "text/plain": [
       "            cos(θ)⋅ψ̇\n",
       "-q⋅tan(φ) + ────────\n",
       "             cos(φ) "
      ]
     },
     "execution_count": 72,
     "metadata": {},
     "output_type": "execute_result"
    }
   ],
   "source": [
    "def r_solve():\n",
    "    \"\"\"Solves for r given psi_dot, phi_dot\n",
    "\n",
    "    Returns:\n",
    "        smpy expression: solution of r\n",
    "    \"\"\"\n",
    "    import sympy\n",
    "    import sympy.physics.mechanics as mech\n",
    "    t = sympy.symbols('t')\n",
    "    mech.init_vprinting()\n",
    "    frame_e = mech.ReferenceFrame('e')\n",
    "    psi, theta, phi = mech.dynamicsymbols('psi, theta, phi')\n",
    "    p, q, r = mech.dynamicsymbols('p, q, r')\n",
    "    frame_b = frame_e.orientnew('b', 'Body', (psi, theta, phi), '321')\n",
    "    omega_eb_b = p*frame_b.x + q*frame_b.y + r*frame_b.z\n",
    "    sol = sympy.solve((frame_b.ang_vel_in(frame_e) - omega_eb_b).to_matrix(frame_b), [p, q, r])\n",
    "    sol2 = sympy.solve([\n",
    "        p - sol[p],\n",
    "        q - sol[q],\n",
    "        r - sol[r]\n",
    "    ], [r, theta.diff(t), phi.diff(t)], simplify=True)\n",
    "    return sol2[r]\n",
    "    \n",
    "r_solve()"
   ]
  },
  {
   "cell_type": "code",
   "execution_count": null,
   "metadata": {},
   "outputs": [],
   "source": []
  }
 ],
 "metadata": {
  "kernelspec": {
   "display_name": ".venv",
   "language": "python",
   "name": "python3"
  },
  "language_info": {
   "codemirror_mode": {
    "name": "ipython",
    "version": 3
   },
   "file_extension": ".py",
   "mimetype": "text/x-python",
   "name": "python",
   "nbconvert_exporter": "python",
   "pygments_lexer": "ipython3",
   "version": "3.10.6"
  },
  "orig_nbformat": 4,
  "vscode": {
   "interpreter": {
    "hash": "b85317a6a547cfccf7118c3a7bd8c99c1a6962a272b17ec2f4fe2604f9280ead"
   }
  }
 },
 "nbformat": 4,
 "nbformat_minor": 2
}
