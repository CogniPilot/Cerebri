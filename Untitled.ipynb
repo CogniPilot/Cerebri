{
 "cells": [
  {
   "cell_type": "code",
   "execution_count": 34,
   "id": "26621e84-907c-40ff-a1d2-04ac12f38b32",
   "metadata": {},
   "outputs": [
    {
     "data": {
      "text/plain": [
       "Text(0, 0.5, 'pwm')"
      ]
     },
     "execution_count": 34,
     "metadata": {},
     "output_type": "execute_result"
    },
    {
     "data": {
      "image/png": "[encoded data removed]",
      "text/plain": [
       "<Figure size 432x288 with 1 Axes>"
      ]
     },
     "metadata": {
      "needs_background": "light"
     },
     "output_type": "display_data"
    }
   ],
   "source": [
    "import numpy as np\n",
    "import matplotlib.pyplot as plt\n",
    "\n",
    "m = 9.25\n",
    "b = 10175\n",
    "\n",
    "volt_max = 4.2*4 # volt\n",
    "kv = 750 # rpm_volt\n",
    "\n",
    "#rpm2rad_s =  2pi rad/rev * x rev/min * 1 min / 60 sec\n",
    "rpm2rad_s = 2*np.pi / 60\n",
    "\n",
    "max_rad_s = volt_max * kv * rpm2rad_s\n",
    "max_rad_s\n",
    "\n",
    "y2 = 2000\n",
    "y1 = 1100\n",
    "x2 = max_rad_s\n",
    "x1 = 0\n",
    "\n",
    "m = (y2 - y1)/(x2 - x1)\n",
    "b = y1\n",
    "\n",
    "x = np.linspace(x1, x2)\n",
    "y = m*x + b\n",
    "plt.plot(x, y)\n",
    "plt.xlabel('rad/s')\n",
    "plt.ylabel('pwm')"
   ]
  },
  {
   "cell_type": "code",
   "execution_count": 35,
   "id": "ccda8b6f-ddcb-4136-b1a5-43cf918be165",
   "metadata": {},
   "outputs": [
    {
     "data": {
      "text/plain": [
       "0.6820926132509801"
      ]
     },
     "execution_count": 35,
     "metadata": {},
     "output_type": "execute_result"
    }
   ],
   "source": [
    "m"
   ]
  },
  {
   "cell_type": "code",
   "execution_count": null,
   "id": "d94da9db-2c35-41f5-a4a3-2399bbf39eb7",
   "metadata": {},
   "outputs": [],
   "source": []
  }
 ],
 "metadata": {
  "kernelspec": {
   "display_name": "Python 3 (ipykernel)",
   "language": "python",
   "name": "python3"
  },
  "language_info": {
   "codemirror_mode": {
    "name": "ipython",
    "version": 3
   },
   "file_extension": ".py",
   "mimetype": "text/x-python",
   "name": "python",
   "nbconvert_exporter": "python",
   "pygments_lexer": "ipython3",
   "version": "3.10.12"
  }
 },
 "nbformat": 4,
 "nbformat_minor": 5
}
